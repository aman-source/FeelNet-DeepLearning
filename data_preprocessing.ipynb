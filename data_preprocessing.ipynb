{
 "cells": [
  {
   "cell_type": "code",
   "execution_count": 57,
   "metadata": {},
   "outputs": [],
   "source": [
    "import pandas as pd\n",
    "import seaborn as sns\n",
    "import matplotlib.pyplot as plt\n",
    "import re\n",
    "import numpy as np\n",
    "import pandas as pd\n",
    "import nltk\n",
    "from nltk.corpus import stopwords\n",
    "from nltk.stem import WordNetLemmatizer"
   ]
  },
  {
   "cell_type": "code",
   "execution_count": 58,
   "metadata": {},
   "outputs": [],
   "source": [
    "df_train = pd.read_csv('dataset/train.txt', names=['Text', 'Emotion'], sep=';')\n",
    "df_val = pd.read_csv('dataset/val.txt', names=['Text', 'Emotion'], sep=';')\n",
    "df_test = pd.read_csv('dataset/test.txt', names=['Text', 'Emotion'], sep=';')"
   ]
  },
  {
   "cell_type": "code",
   "execution_count": 59,
   "metadata": {},
   "outputs": [
    {
     "name": "stdout",
     "output_type": "stream",
     "text": [
      "(16000, 2)\n"
     ]
    },
    {
     "data": {
      "text/html": [
       "<div>\n",
       "<style scoped>\n",
       "    .dataframe tbody tr th:only-of-type {\n",
       "        vertical-align: middle;\n",
       "    }\n",
       "\n",
       "    .dataframe tbody tr th {\n",
       "        vertical-align: top;\n",
       "    }\n",
       "\n",
       "    .dataframe thead th {\n",
       "        text-align: right;\n",
       "    }\n",
       "</style>\n",
       "<table border=\"1\" class=\"dataframe\">\n",
       "  <thead>\n",
       "    <tr style=\"text-align: right;\">\n",
       "      <th></th>\n",
       "      <th>Text</th>\n",
       "      <th>Emotion</th>\n",
       "    </tr>\n",
       "  </thead>\n",
       "  <tbody>\n",
       "    <tr>\n",
       "      <th>0</th>\n",
       "      <td>i didnt feel humiliated</td>\n",
       "      <td>sadness</td>\n",
       "    </tr>\n",
       "    <tr>\n",
       "      <th>1</th>\n",
       "      <td>i can go from feeling so hopeless to so damned...</td>\n",
       "      <td>sadness</td>\n",
       "    </tr>\n",
       "    <tr>\n",
       "      <th>2</th>\n",
       "      <td>im grabbing a minute to post i feel greedy wrong</td>\n",
       "      <td>anger</td>\n",
       "    </tr>\n",
       "    <tr>\n",
       "      <th>3</th>\n",
       "      <td>i am ever feeling nostalgic about the fireplac...</td>\n",
       "      <td>love</td>\n",
       "    </tr>\n",
       "    <tr>\n",
       "      <th>4</th>\n",
       "      <td>i am feeling grouchy</td>\n",
       "      <td>anger</td>\n",
       "    </tr>\n",
       "  </tbody>\n",
       "</table>\n",
       "</div>"
      ],
      "text/plain": [
       "                                                Text  Emotion\n",
       "0                            i didnt feel humiliated  sadness\n",
       "1  i can go from feeling so hopeless to so damned...  sadness\n",
       "2   im grabbing a minute to post i feel greedy wrong    anger\n",
       "3  i am ever feeling nostalgic about the fireplac...     love\n",
       "4                               i am feeling grouchy    anger"
      ]
     },
     "execution_count": 59,
     "metadata": {},
     "output_type": "execute_result"
    }
   ],
   "source": [
    "print(df_train.shape)\n",
    "df_train.head()"
   ]
  },
  {
   "cell_type": "code",
   "execution_count": 60,
   "metadata": {},
   "outputs": [
    {
     "name": "stdout",
     "output_type": "stream",
     "text": [
      "(2000, 2)\n"
     ]
    },
    {
     "data": {
      "text/html": [
       "<div>\n",
       "<style scoped>\n",
       "    .dataframe tbody tr th:only-of-type {\n",
       "        vertical-align: middle;\n",
       "    }\n",
       "\n",
       "    .dataframe tbody tr th {\n",
       "        vertical-align: top;\n",
       "    }\n",
       "\n",
       "    .dataframe thead th {\n",
       "        text-align: right;\n",
       "    }\n",
       "</style>\n",
       "<table border=\"1\" class=\"dataframe\">\n",
       "  <thead>\n",
       "    <tr style=\"text-align: right;\">\n",
       "      <th></th>\n",
       "      <th>Text</th>\n",
       "      <th>Emotion</th>\n",
       "    </tr>\n",
       "  </thead>\n",
       "  <tbody>\n",
       "    <tr>\n",
       "      <th>0</th>\n",
       "      <td>im feeling rather rotten so im not very ambiti...</td>\n",
       "      <td>sadness</td>\n",
       "    </tr>\n",
       "    <tr>\n",
       "      <th>1</th>\n",
       "      <td>im updating my blog because i feel shitty</td>\n",
       "      <td>sadness</td>\n",
       "    </tr>\n",
       "    <tr>\n",
       "      <th>2</th>\n",
       "      <td>i never make her separate from me because i do...</td>\n",
       "      <td>sadness</td>\n",
       "    </tr>\n",
       "    <tr>\n",
       "      <th>3</th>\n",
       "      <td>i left with my bouquet of red and yellow tulip...</td>\n",
       "      <td>joy</td>\n",
       "    </tr>\n",
       "    <tr>\n",
       "      <th>4</th>\n",
       "      <td>i was feeling a little vain when i did this one</td>\n",
       "      <td>sadness</td>\n",
       "    </tr>\n",
       "  </tbody>\n",
       "</table>\n",
       "</div>"
      ],
      "text/plain": [
       "                                                Text  Emotion\n",
       "0  im feeling rather rotten so im not very ambiti...  sadness\n",
       "1          im updating my blog because i feel shitty  sadness\n",
       "2  i never make her separate from me because i do...  sadness\n",
       "3  i left with my bouquet of red and yellow tulip...      joy\n",
       "4    i was feeling a little vain when i did this one  sadness"
      ]
     },
     "execution_count": 60,
     "metadata": {},
     "output_type": "execute_result"
    }
   ],
   "source": [
    "print(df_test.shape)\n",
    "df_test.head()"
   ]
  },
  {
   "cell_type": "code",
   "execution_count": 61,
   "metadata": {},
   "outputs": [
    {
     "name": "stdout",
     "output_type": "stream",
     "text": [
      "(2000, 2)\n"
     ]
    },
    {
     "data": {
      "text/html": [
       "<div>\n",
       "<style scoped>\n",
       "    .dataframe tbody tr th:only-of-type {\n",
       "        vertical-align: middle;\n",
       "    }\n",
       "\n",
       "    .dataframe tbody tr th {\n",
       "        vertical-align: top;\n",
       "    }\n",
       "\n",
       "    .dataframe thead th {\n",
       "        text-align: right;\n",
       "    }\n",
       "</style>\n",
       "<table border=\"1\" class=\"dataframe\">\n",
       "  <thead>\n",
       "    <tr style=\"text-align: right;\">\n",
       "      <th></th>\n",
       "      <th>Text</th>\n",
       "      <th>Emotion</th>\n",
       "    </tr>\n",
       "  </thead>\n",
       "  <tbody>\n",
       "    <tr>\n",
       "      <th>0</th>\n",
       "      <td>im feeling quite sad and sorry for myself but ...</td>\n",
       "      <td>sadness</td>\n",
       "    </tr>\n",
       "    <tr>\n",
       "      <th>1</th>\n",
       "      <td>i feel like i am still looking at a blank canv...</td>\n",
       "      <td>sadness</td>\n",
       "    </tr>\n",
       "    <tr>\n",
       "      <th>2</th>\n",
       "      <td>i feel like a faithful servant</td>\n",
       "      <td>love</td>\n",
       "    </tr>\n",
       "    <tr>\n",
       "      <th>3</th>\n",
       "      <td>i am just feeling cranky and blue</td>\n",
       "      <td>anger</td>\n",
       "    </tr>\n",
       "    <tr>\n",
       "      <th>4</th>\n",
       "      <td>i can have for a treat or if i am feeling festive</td>\n",
       "      <td>joy</td>\n",
       "    </tr>\n",
       "  </tbody>\n",
       "</table>\n",
       "</div>"
      ],
      "text/plain": [
       "                                                Text  Emotion\n",
       "0  im feeling quite sad and sorry for myself but ...  sadness\n",
       "1  i feel like i am still looking at a blank canv...  sadness\n",
       "2                     i feel like a faithful servant     love\n",
       "3                  i am just feeling cranky and blue    anger\n",
       "4  i can have for a treat or if i am feeling festive      joy"
      ]
     },
     "execution_count": 61,
     "metadata": {},
     "output_type": "execute_result"
    }
   ],
   "source": [
    "print(df_val.shape)\n",
    "df_val.head()"
   ]
  },
  {
   "cell_type": "code",
   "execution_count": 62,
   "metadata": {},
   "outputs": [
    {
     "name": "stdout",
     "output_type": "stream",
     "text": [
      "Emotion\n",
      "joy         5362\n",
      "sadness     4666\n",
      "anger       2159\n",
      "fear        1937\n",
      "love        1304\n",
      "surprise     572\n",
      "Name: count, dtype: int64\n",
      "-----------\n",
      "Emotion\n",
      "joy         695\n",
      "sadness     581\n",
      "anger       275\n",
      "fear        224\n",
      "love        159\n",
      "surprise     66\n",
      "Name: count, dtype: int64\n",
      "-----------\n",
      "Emotion\n",
      "joy         704\n",
      "sadness     550\n",
      "anger       275\n",
      "fear        212\n",
      "love        178\n",
      "surprise     81\n",
      "Name: count, dtype: int64\n"
     ]
    }
   ],
   "source": [
    "print(df_train['Emotion'].value_counts())\n",
    "print('-----------')\n",
    "print(df_test['Emotion'].value_counts())\n",
    "print('-----------')\n",
    "print(df_val['Emotion'].value_counts())"
   ]
  },
  {
   "cell_type": "code",
   "execution_count": 63,
   "metadata": {},
   "outputs": [
    {
     "name": "stdout",
     "output_type": "stream",
     "text": [
      "Emotion\n",
      "joy         33.51250\n",
      "sadness     29.16250\n",
      "anger       13.49375\n",
      "fear        12.10625\n",
      "love         8.15000\n",
      "surprise     3.57500\n",
      "Name: proportion, dtype: float64\n",
      "-----------\n",
      "Emotion\n",
      "joy         34.75\n",
      "sadness     29.05\n",
      "anger       13.75\n",
      "fear        11.20\n",
      "love         7.95\n",
      "surprise     3.30\n",
      "Name: proportion, dtype: float64\n",
      "-----------\n",
      "Emotion\n",
      "joy         35.20\n",
      "sadness     27.50\n",
      "anger       13.75\n",
      "fear        10.60\n",
      "love         8.90\n",
      "surprise     4.05\n",
      "Name: proportion, dtype: float64\n"
     ]
    }
   ],
   "source": [
    "print(df_train[\"Emotion\"].value_counts(normalize=True) * 100)\n",
    "print('-----------')\n",
    "print(df_test[\"Emotion\"].value_counts(normalize=True) * 100)\n",
    "print('-----------')\n",
    "print(df_val[\"Emotion\"].value_counts(normalize=True) * 100)\n"
   ]
  },
  {
   "cell_type": "markdown",
   "metadata": {},
   "source": [
    "AN IMBALANCED DATASET"
   ]
  },
  {
   "cell_type": "code",
   "execution_count": 64,
   "metadata": {},
   "outputs": [
    {
     "data": {
      "text/plain": [
       "<Axes: xlabel='Emotion', ylabel='count'>"
      ]
     },
     "execution_count": 64,
     "metadata": {},
     "output_type": "execute_result"
    },
    {
     "data": {
      "image/png": "[encoded data removed]",
      "text/plain": [
       "<Figure size 600x300 with 1 Axes>"
      ]
     },
     "metadata": {},
     "output_type": "display_data"
    },
    {
     "data": {
      "image/png": "[encoded data removed]",
      "text/plain": [
       "<Figure size 600x300 with 1 Axes>"
      ]
     },
     "metadata": {},
     "output_type": "display_data"
    },
    {
     "data": {
      "image/png": "[encoded data removed]",
      "text/plain": [
       "<Figure size 600x300 with 1 Axes>"
      ]
     },
     "metadata": {},
     "output_type": "display_data"
    }
   ],
   "source": [
    "plt.figure(figsize=(6,3))\n",
    "sns.countplot(x='Emotion', data=df_train)\n",
    "plt.figure(figsize=(6,3))\n",
    "sns.countplot(x='Emotion', data=df_test)\n",
    "plt.figure(figsize=(6,3))\n",
    "sns.countplot(x='Emotion', data=df_val)"
   ]
  },
  {
   "cell_type": "code",
   "execution_count": 65,
   "metadata": {},
   "outputs": [
    {
     "name": "stdout",
     "output_type": "stream",
     "text": [
      "Text       0\n",
      "Emotion    0\n",
      "dtype: int64\n",
      "-----------\n",
      "Text       0\n",
      "Emotion    0\n",
      "dtype: int64\n",
      "-----------\n",
      "Text       0\n",
      "Emotion    0\n",
      "dtype: int64\n"
     ]
    }
   ],
   "source": [
    "print(df_train.isnull().sum())\n",
    "print('-----------')\n",
    "print(df_test.isnull().sum())\n",
    "print('-----------')\n",
    "print(df_val.isnull().sum())"
   ]
  },
  {
   "cell_type": "code",
   "execution_count": 66,
   "metadata": {},
   "outputs": [
    {
     "name": "stdout",
     "output_type": "stream",
     "text": [
      "                                                    Text  Emotion\n",
      "364    i tend to stop breathing when i m feeling stre...  sadness\n",
      "1501   i feel on the verge of tears from weariness i ...     love\n",
      "1625   i was intensely conscious of how much cash i h...    anger\n",
      "1802                    i still feel completely accepted      joy\n",
      "2908   im still not sure why reilly feels the need to...     fear\n",
      "...                                                  ...      ...\n",
      "15315  i will feel as though i am accepted by as well...      joy\n",
      "15329  i shy away from songs that talk about how i fe...      joy\n",
      "15572  i bet taylor swift basks in the knowledge that...    anger\n",
      "15705  i began to feel accepted by gaia on her own terms      joy\n",
      "15876  i was sitting in the corner stewing in my own ...    anger\n",
      "\n",
      "[62 rows x 2 columns]\n",
      "-----------\n",
      "Empty DataFrame\n",
      "Columns: [Text, Emotion]\n",
      "Index: []\n",
      "-------------\n",
      "                                                   Text Emotion\n",
      "300   i have had several new members tell me how com...    love\n",
      "603   i have had several new members tell me how com...     joy\n",
      "774                            i feel so tortured by it    fear\n",
      "1993                           i feel so tortured by it   anger\n"
     ]
    }
   ],
   "source": [
    "conflicting_labels_train = df_train[df_train.duplicated(subset=[\"Text\"], keep=False)]\n",
    "conflicting_labels_test = df_test[df_test.duplicated(subset=[\"Text\"], keep=False)]\n",
    "conflicting_labels_val = df_val[df_val.duplicated(subset=[\"Text\"], keep=False)]\n",
    "print(conflicting_labels_train)\n",
    "print('-----------')\n",
    "print(conflicting_labels_test)\n",
    "print('-------------')\n",
    "print(conflicting_labels_val)"
   ]
  },
  {
   "cell_type": "code",
   "execution_count": 67,
   "metadata": {},
   "outputs": [
    {
     "name": "stdout",
     "output_type": "stream",
     "text": [
      "-----------\n",
      "-----------\n"
     ]
    }
   ],
   "source": [
    "df_train = df_train.drop_duplicates(subset=[\"Text\"], keep=\"first\")\n",
    "print('-----------')\n",
    "df_test = df_test.drop_duplicates(subset=[\"Text\"], keep=\"first\")\n",
    "print('-----------')\n",
    "df_val = df_val.drop_duplicates(subset=[\"Text\"], keep=\"first\")\n"
   ]
  },
  {
   "cell_type": "code",
   "execution_count": 68,
   "metadata": {},
   "outputs": [
    {
     "name": "stderr",
     "output_type": "stream",
     "text": [
      "[nltk_data] Downloading package stopwords to\n",
      "[nltk_data]     C:\\Users\\hp\\AppData\\Roaming\\nltk_data...\n",
      "[nltk_data]   Package stopwords is already up-to-date!\n"
     ]
    }
   ],
   "source": [
    "nltk.download('stopwords')\n",
    "lemmatizer = WordNetLemmatizer()\n",
    "stop_words = set(stopwords.words(\"english\"))"
   ]
  },
  {
   "cell_type": "code",
   "execution_count": 69,
   "metadata": {},
   "outputs": [],
   "source": [
    "# Preprocessing Functions\n",
    "def apply_lemmatization(text):\n",
    "    return \" \".join([lemmatizer.lemmatize(word) for word in text.split()])\n",
    "\n",
    "def filter_stop_words(text):\n",
    "    return \" \".join([word for word in text.split() if word not in stop_words])\n",
    "\n",
    "def strip_numbers(text):\n",
    "    return re.sub(r'\\d+', '', text)\n",
    "\n",
    "def convert_to_lower(text):\n",
    "    return text.lower()\n",
    "\n",
    "def clean_punctuation(text):\n",
    "    text = re.sub(r'[^\\w\\s]', ' ', text)  # Removes punctuation\n",
    "    text = re.sub(r'\\s+', ' ', text).strip()  # Removes extra spaces\n",
    "    return text\n",
    "\n",
    "def eliminate_urls(text):\n",
    "    return re.sub(r'https?://\\S+|www\\.\\S+', '', text)\n",
    "\n",
    "# Unified Text Preprocessing Function\n",
    "def text_pipeline(text):\n",
    "    text = convert_to_lower(text)\n",
    "    text = eliminate_urls(text)\n",
    "    text = strip_numbers(text)\n",
    "    text = clean_punctuation(text)\n",
    "    text = filter_stop_words(text)\n",
    "    text = apply_lemmatization(text)\n",
    "    return text"
   ]
  },
  {
   "cell_type": "code",
   "execution_count": 70,
   "metadata": {},
   "outputs": [],
   "source": [
    "df_train[\"Text\"] = df_train[\"Text\"].apply(text_pipeline)\n",
    "df_test[\"Text\"] = df_test[\"Text\"].apply(text_pipeline)\n",
    "df_val[\"Text\"] = df_val[\"Text\"].apply(text_pipeline)\n"
   ]
  },
  {
   "cell_type": "code",
   "execution_count": 71,
   "metadata": {},
   "outputs": [
    {
     "name": "stdout",
     "output_type": "stream",
     "text": [
      "0                                didnt feel humiliated\n",
      "1    go feeling hopeless damned hopeful around some...\n",
      "2            im grabbing minute post feel greedy wrong\n",
      "3    ever feeling nostalgic fireplace know still pr...\n",
      "4                                      feeling grouchy\n",
      "Name: Text, dtype: object\n",
      "-----------\n",
      "0          im feeling rather rotten im ambitious right\n",
      "1                         im updating blog feel shitty\n",
      "2      never make separate ever want feel like ashamed\n",
      "3    left bouquet red yellow tulip arm feeling slig...\n",
      "4                              feeling little vain one\n",
      "Name: Text, dtype: object\n",
      "-----------\n",
      "0             im feeling quite sad sorry ill snap soon\n",
      "1    feel like still looking blank canvas blank pie...\n",
      "2                           feel like faithful servant\n",
      "3                                  feeling cranky blue\n",
      "4                                treat feeling festive\n",
      "Name: Text, dtype: object\n"
     ]
    }
   ],
   "source": [
    "print(df_train[\"Text\"].head())\n",
    "print('-----------')\n",
    "print(df_test[\"Text\"].head())\n",
    "print('-----------')\n",
    "print(df_val[\"Text\"].head())"
   ]
  },
  {
   "cell_type": "code",
   "execution_count": 72,
   "metadata": {},
   "outputs": [],
   "source": [
    "df_train.to_csv('preprocessed_dataset/train.csv', index=False)\n",
    "df_test.to_csv('preprocessed_dataset/test.csv', index=False)\n",
    "df_val.to_csv('preprocessed_dataset/val.csv', index=False)"
   ]
  }
 ],
 "metadata": {
  "kernelspec": {
   "display_name": "Python 3",
   "language": "python",
   "name": "python3"
  },
  "language_info": {
   "codemirror_mode": {
    "name": "ipython",
    "version": 3
   },
   "file_extension": ".py",
   "mimetype": "text/x-python",
   "name": "python",
   "nbconvert_exporter": "python",
   "pygments_lexer": "ipython3",
   "version": "3.12.3"
  }
 },
 "nbformat": 4,
 "nbformat_minor": 2
}
